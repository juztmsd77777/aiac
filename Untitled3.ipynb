{
  "nbformat": 4,
  "nbformat_minor": 0,
  "metadata": {
    "colab": {
      "provenance": [],
      "authorship_tag": "ABX9TyNjSYNFzfaQWVt1r9NfDSkF",
      "include_colab_link": true
    },
    "kernelspec": {
      "name": "python3",
      "display_name": "Python 3"
    },
    "language_info": {
      "name": "python"
    }
  },
  "cells": [
    {
      "cell_type": "markdown",
      "metadata": {
        "id": "view-in-github",
        "colab_type": "text"
      },
      "source": [
        "<a href=\"https://colab.research.google.com/github/juztmsd77777/aiac/blob/main/Untitled3.ipynb\" target=\"_parent\"><img src=\"https://colab.research.google.com/assets/colab-badge.svg\" alt=\"Open In Colab\"/></a>"
      ]
    },
    {
      "cell_type": "markdown",
      "source": [
        "\n",
        "\n",
        "write a python code to add two numbers\n",
        "\n",
        "\n"
      ],
      "metadata": {
        "id": "mHHrD2YDUdUw"
      }
    },
    {
      "cell_type": "code",
      "metadata": {
        "colab": {
          "base_uri": "https://localhost:8080/"
        },
        "id": "4ed71699",
        "outputId": "f7b1205a-bfaf-4ae4-8c3a-77f1c5851d7d"
      },
      "source": [
        "num1 = 5\n",
        "num2 = 10\n",
        "sum_of_numbers = num1 + num2\n",
        "print(f\"The sum of {num1} and {num2} is: {sum_of_numbers}\")"
      ],
      "execution_count": 1,
      "outputs": [
        {
          "output_type": "stream",
          "name": "stdout",
          "text": [
            "The sum of 5 and 10 is: 15\n"
          ]
        }
      ]
    },
    {
      "cell_type": "code",
      "execution_count": null,
      "metadata": {
        "id": "Ym3nAMTHUUO1"
      },
      "outputs": [],
      "source": []
    }
  ]
}
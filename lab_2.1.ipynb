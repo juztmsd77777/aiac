{
  "nbformat": 4,
  "nbformat_minor": 0,
  "metadata": {
    "colab": {
      "provenance": [],
      "authorship_tag": "ABX9TyMoTw8K+4PWrm6ijG3pf/Q3",
      "include_colab_link": true
    },
    "kernelspec": {
      "name": "python3",
      "display_name": "Python 3"
    },
    "language_info": {
      "name": "python"
    }
  },
  "cells": [
    {
      "cell_type": "markdown",
      "metadata": {
        "id": "view-in-github",
        "colab_type": "text"
      },
      "source": [
        "<a href=\"https://colab.research.google.com/github/juztmsd77777/aiac/blob/main/lab_2.1.ipynb\" target=\"_parent\"><img src=\"https://colab.research.google.com/assets/colab-badge.svg\" alt=\"Open In Colab\"/></a>"
      ]
    },
    {
      "cell_type": "markdown",
      "source": [
        "# TASK 1\n",
        "Description:\n",
        "\n",
        "● Use Google Gemini in Colab to write a Python function that reads a list of numbers and calculates the mean, minimum, and maximum values\n",
        "\n",
        "Prompt: write a Python function that reads a list of numbers and calculates the mean, minimum, and maximum values\n",
        "\n"
      ],
      "metadata": {
        "id": "VNjdCuNfiSPz"
      }
    },
    {
      "cell_type": "code",
      "source": [
        "def calculate_stats(numbers):\n",
        "  \"\"\"\n",
        "  Calculates the mean, minimum, and maximum values of a list of numbers.\n",
        "\n",
        "  Args:\n",
        "    numbers: A list of numbers.\n",
        "\n",
        "  Returns:\n",
        "    A tuple containing the mean, minimum, and maximum values.\n",
        "    Returns (None, None, None) if the input list is empty.\n",
        "  \"\"\"\n",
        "  if not numbers:\n",
        "    return None, None, None\n",
        "\n",
        "  mean = sum(numbers) / len(numbers)\n",
        "  minimum = min(numbers)\n",
        "  maximum = max(numbers)\n",
        "\n",
        "  return mean, minimum, maximum\n",
        "\n",
        "# Example usage:\n",
        "my_list = [10, 20, 30, 40, 50]\n",
        "mean_val, min_val, max_val = calculate_stats(my_list)\n",
        "\n",
        "print(f\"List: {my_list}\")\n",
        "print(f\"Mean: {mean_val}\")\n",
        "print(f\"Minimum: {min_val}\")\n",
        "print(f\"Maximum: {max_val}\")\n",
        "\n",
        "empty_list = []\n",
        "mean_empty, min_empty, max_empty = calculate_stats(empty_list)\n",
        "print(f\"\\nList: {empty_list}\")\n",
        "print(f\"Mean: {mean_empty}\")\n",
        "print(f\"Minimum: {min_empty}\")\n",
        "print(f\"Maximum: {max_empty}\")"
      ],
      "metadata": {
        "colab": {
          "base_uri": "https://localhost:8080/"
        },
        "id": "YCzuJFi0iq19",
        "outputId": "42c66d96-ce14-44d7-f28c-9c5711855749"
      },
      "execution_count": null,
      "outputs": [
        {
          "output_type": "stream",
          "name": "stdout",
          "text": [
            "List: [10, 20, 30, 40, 50]\n",
            "Mean: 30.0\n",
            "Minimum: 10\n",
            "Maximum: 50\n",
            "\n",
            "List: []\n",
            "Mean: None\n",
            "Minimum: None\n",
            "Maximum: None\n"
          ]
        }
      ]
    },
    {
      "cell_type": "markdown",
      "source": [
        "Explanation:\n",
        "\n",
        "This code defines a Python function called analyze_numbers that takes a list of numbers as input.\n",
        "\n",
        "Here's a breakdown of what the function does:\n",
        "\n",
        "Checks for an empty list: It first checks if the input list numbers is empty. If it is, it returns None for the mean, minimum, and maximum values. Calculates the mean: If the list is not empty, it calculates the mean by summing all the numbers in the list and dividing by the number of elements in the list. Finds the minimum and maximum: It then finds the minimum and maximum values in the list using the built-in min() and max() functions. Returns the results: Finally, it returns the calculated mean, minimum, and maximum values as a tuple. The code also includes example usage of the function with a sample list and an empty list, demonstrating how to call the function and print the results."
      ],
      "metadata": {
        "id": "1q_BGIXgjKy6"
      }
    },
    {
      "cell_type": "markdown",
      "source": [
        "# Task 2\n",
        "\n",
        "Description:\n",
        "\n",
        "● Compare Gemini and Copilot outputs for a Python function that\n",
        "checks whether a number is an Armstrong number. Document the\n",
        "steps, prompts, and outputs.\n",
        "\n",
        "**prompt**:Python function that\n",
        "checks whether a number is an Armstrong number and takes the input from user\n"
      ],
      "metadata": {
        "id": "9jCcEBhzjFeh"
      }
    },
    {
      "cell_type": "code",
      "source": [
        "def is_armstrong_number(number):\n",
        "  \"\"\"\n",
        "  Checks if a number is an Armstrong number.\n",
        "\n",
        "  An Armstrong number is a number that is the sum of its own digits\n",
        "  each raised to the power of the number of digits.\n",
        "\n",
        "  Args:\n",
        "    number: An integer.\n",
        "\n",
        "  Returns:\n",
        "    True if the number is an Armstrong number, False otherwise.\n",
        "  \"\"\"\n",
        "  # Convert the number to a string to get the number of digits\n",
        "  num_str = str(number)\n",
        "  num_digits = len(num_str)\n",
        "\n",
        "  # Calculate the sum of digits raised to the power of the number of digits\n",
        "  armstrong_sum = 0\n",
        "  for digit in num_str:\n",
        "    armstrong_sum += int(digit) ** num_digits\n",
        "\n",
        "  # Check if the sum is equal to the original number\n",
        "  return armstrong_sum == number\n",
        "\n",
        "# Get input from the user\n",
        "try:\n",
        "  num = int(input(\"Enter a number to check if it's an Armstrong number: \"))\n",
        "  if is_armstrong_number(num):\n",
        "    print(f\"{num} is an Armstrong number.\")\n",
        "  else:\n",
        "    print(f\"{num} is not an Armstrong number.\")\n",
        "except ValueError:\n",
        "  print(\"Invalid input. Please enter an integer.\")"
      ],
      "metadata": {
        "colab": {
          "base_uri": "https://localhost:8080/"
        },
        "id": "pk7aantkjeL9",
        "outputId": "ac14bdb5-fb5e-4fcc-9503-cfa15b828125"
      },
      "execution_count": null,
      "outputs": [
        {
          "output_type": "stream",
          "name": "stdout",
          "text": [
            "Enter a number to check if it's an Armstrong number: 153\n",
            "153 is an Armstrong number.\n"
          ]
        }
      ]
    },
    {
      "cell_type": "markdown",
      "source": [
        "Explanation:\n",
        "\n",
        "This code defines a Python function called is_armstrong_number that checks if a given integer is an Armstrong number.\n",
        "\n",
        "Here's a breakdown:\n",
        "\n",
        "Function Definition: def is_armstrong_number(number): defines a function that takes one argument, number. The docstring explains what an Armstrong number is and what the function does. Checking for Armstrong Number: num_str = str(number): Converts the input number into a string so you can easily access each digit. num_digits = len(num_str): Calculates the number of digits in the number. armstrong_sum = 0: Initializes a variable to store the sum of the digits raised to the power of the number of digits. for digit in num_str:: This loop iterates through each character (digit) in the num_str. armstrong_sum += int(digit) ** num_digits: Converts the current digit back to an integer and raises it to the power of num_digits, then adds it to armstrong_sum. return armstrong_sum == number: Compares the calculated armstrong_sum with the original number. If they are equal, the function returns True (it's an Armstrong number); otherwise, it returns False. Example Usage with User Input: user_input = input(\"Enter a number: \"): Prompts the user to enter a number and stores their input as a string in the user_input variable. try...except ValueError:: This block attempts to convert the user's input to an integer. num = int(user_input): Tries to convert the user_input string to an integer and stores it in the num variable. print(f\"{num} is an Armstrong number: {is_armstrong_number(num)}\"): If the conversion is successful, it calls the is_armstrong_number function with the entered number and prints the result. except ValueError: print(\"Invalid input. Please enter an integer.\"): If the conversion fails (e.g., the user enters text), it catches the ValueError and prints an error message."
      ],
      "metadata": {
        "id": "ioVZpm11j6B9"
      }
    },
    {
      "cell_type": "markdown",
      "source": [
        "copilot\n",
        "\n",
        "Prompt : Python function that checks whether a number is an Armstrong number and takes the input from user"
      ],
      "metadata": {
        "id": "3rbWIfnikA_h"
      }
    },
    {
      "cell_type": "markdown",
      "source": [
        "![Screenshot 2025-08-12 194452.png](data:image/png;base64,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)"
      ],
      "metadata": {
        "id": "3IXng2NkonOb"
      }
    },
    {
      "cell_type": "markdown",
      "source": [
        "comparison\n",
        "\n",
        "\n",
        "   gemini:\n",
        "\n",
        "       1.Uses a for-loop (functionally equivalent)\n",
        "\n",
        "       2.Uses try/except to handle invalid input\n",
        "\n",
        "\n",
        "   copilot:\n",
        "\n",
        "       1.Uses a generator expression for sum\n",
        "\n",
        "       2.Directly converts input to int"
      ],
      "metadata": {
        "id": "pdAOvFzNlBCg"
      }
    },
    {
      "cell_type": "markdown",
      "source": [
        "# Task 3\n",
        "\n",
        "Description:\n",
        "\n",
        "● Ask Gemini to explain a Python function (e.g., is_prime(n) or is_palindrome(s)) line by line.\n",
        "\n",
        "● Choose either a prime-checking or palindrome-checking function and document the explanation provided by Gemini.\n",
        "\n",
        "PROMPT: Python function for is_prime(n) or is_palindrome(s) line by line that takes an input and prints output"
      ],
      "metadata": {
        "id": "lVG6ioqWlW9C"
      }
    },
    {
      "cell_type": "code",
      "metadata": {
        "colab": {
          "base_uri": "https://localhost:8080/"
        },
        "id": "f8eb8494",
        "outputId": "fde79a3c-7ffc-4517-ddad-bac593141480"
      },
      "source": [
        "def is_prime(n):\n",
        "  \"\"\"\n",
        "  Checks if a number is prime.\n",
        "\n",
        "  A prime number is a natural number greater than 1 that has no positive\n",
        "  divisors other than 1 and itself.\n",
        "\n",
        "  Args:\n",
        "    n: An integer.\n",
        "\n",
        "  Returns:\n",
        "    True if the number is prime, False otherwise.\n",
        "  \"\"\"\n",
        "  # Prime numbers are greater than 1\n",
        "  if n <= 1:\n",
        "    return False\n",
        "  # Check for divisibility from 2 up to the square root of n\n",
        "  # We only need to check up to the square root because if n has a divisor\n",
        "  # greater than its square root, it must also have a divisor less than its\n",
        "  # square root.\n",
        "  for i in range(2, int(n**0.5) + 1):\n",
        "    if n % i == 0:\n",
        "      return False\n",
        "  # If no divisors are found, the number is prime\n",
        "  return True\n",
        "\n",
        "# Get input from the user\n",
        "try:\n",
        "  user_number = int(input(\"Enter an integer to check if it's a prime number: \"))\n",
        "\n",
        "  # Check and print the result\n",
        "  if is_prime(user_number):\n",
        "    print(f\"{user_number} is a prime number.\")\n",
        "  else:\n",
        "    print(f\"{user_number} is not a prime number.\")\n",
        "except ValueError:\n",
        "  print(\"Invalid input. Please enter an integer.\")"
      ],
      "execution_count": null,
      "outputs": [
        {
          "output_type": "stream",
          "name": "stdout",
          "text": [
            "Enter an integer to check if it's a prime number: 11\n",
            "11 is a prime number.\n"
          ]
        }
      ]
    },
    {
      "cell_type": "markdown",
      "source": [
        "Explanation:\n",
        "\n",
        "This code defines a Python function called is_prime(n) that checks if a given integer n is a prime number, and then takes user input to test the function.\n",
        "\n",
        "Here's a breakdown:\n",
        "\n",
        "Function Definition: def is_prime(n): defines the function is_prime that takes one argument n. The docstring explains that the function checks if a number is prime and clarifies the arguments and return value. Prime Number Check: if n <= 1:: Prime numbers must be greater than 1, so if n is 1 or less, it's immediately considered not prime and the function returns False. for i in range(2, int(n**0.5) + 1):: This loop iterates through possible factors starting from 2 up to the square root of n. We only need to check up to the square root because if a number has a factor greater than its square root, it must also have a factor smaller than its square root. if n % i == 0:: Inside the loop, it checks if n is divisible by the current number i without any remainder. If it is, i is a factor of n, meaning n is not prime, and the function returns False. return True: If the loop finishes without finding any factors, it means the number n is prime, and the function returns True. User Input and Output: user_input = input(\"Enter an integer: \"): This line prompts the user to enter an integer and stores the input as a string in the user_input variable. try...except ValueError:: This block is used for error handling. It attempts to convert the user's input to an integer. num = int(user_input): If the conversion is successful, the integer is stored in the num variable. if is_prime(num):: It then calls the is_prime function with the user's number. If the function returns True, it prints that the number is prime. else: print(f\"{num} is not a prime number.\"): If the function returns False, it prints that the number is not prime. except ValueError: print(\"Invalid input. Please enter an integer.\"): If the user's input cannot be converted to an integer (e.g., they entered text), a ValueError occurs, and this block catches it, printing an error message."
      ],
      "metadata": {
        "id": "Bpu3bVi2mfMQ"
      }
    },
    {
      "cell_type": "markdown",
      "source": [
        "# Task 4\n",
        "\n",
        "Description :\n",
        "\n",
        "● generate a Python function (e.g., sum of the first N natural numbers) and test its output.\n",
        "\n",
        "Prompt:write a python function that can do sum of the first N natural numbers that will take n as input and will give an output"
      ],
      "metadata": {
        "id": "zSfnr383mk2z"
      }
    },
    {
      "cell_type": "code",
      "source": [
        "def sum_of_first_n_natural_numbers(n):\n",
        "  \"\"\"\n",
        "  Calculates the sum of the first N natural numbers.\n",
        "\n",
        "  Args:\n",
        "    n: An integer representing the number of natural numbers to sum.\n",
        "\n",
        "  Returns:\n",
        "    The sum of the first N natural numbers.\n",
        "    Returns 0 if n is less than or equal to 0.\n",
        "  \"\"\"\n",
        "  if n <= 0:\n",
        "    return 0\n",
        "  else:\n",
        "    return n * (n + 1) // 2\n",
        "\n",
        "# Get input from the user\n",
        "try:\n",
        "  num_n = int(input(\"Enter a positive integer N to calculate the sum of the first N natural numbers: \"))\n",
        "\n",
        "  # Calculate and print the result\n",
        "  sum_n = sum_of_first_n_natural_numbers(num_n)\n",
        "  print(f\"The sum of the first {num_n} natural numbers is: {sum_n}\")\n",
        "except ValueError:\n",
        "  print(\"Invalid input. Please enter a positive integer.\")"
      ],
      "metadata": {
        "colab": {
          "base_uri": "https://localhost:8080/"
        },
        "id": "xW0pTsPOmqzN",
        "outputId": "79229987-a8ab-4491-a169-04600094e49c"
      },
      "execution_count": null,
      "outputs": [
        {
          "output_type": "stream",
          "name": "stdout",
          "text": [
            "Enter a positive integer N to calculate the sum of the first N natural numbers: 5\n",
            "The sum of the first 5 natural numbers is: 15\n"
          ]
        }
      ]
    },
    {
      "cell_type": "markdown",
      "source": [
        "Explanation:\n",
        "\n",
        "This code defines a Python function called sum_of_first_n_natural_numbers(n) that calculates the sum of the first N natural numbers, and then takes user input to find the sum for a specific N.\n",
        "\n",
        "Here's a breakdown:\n",
        "\n",
        "Function Definition: def sum_of_first_n_natural_numbers(n): defines the function that takes one argument n, which represents the number of natural numbers to sum. The docstring explains what the function does, its arguments, and what it returns. Sum Calculation: if n < 0:: This checks if the input n is negative. Natural numbers are typically considered positive integers (1, 2, 3, ...), so if n is negative, the function returns 0. else: return n * (n + 1) // 2: If n is not negative, this line calculates the sum of the first n natural numbers using the formula n * (n + 1) / 2. The // 2 ensures integer division. User Input and Output: user_input = input(\"Enter a non-negative integer (N): \"): This line prompts the user to enter a non-negative integer and stores the input as a string in the user_input variable. try...except ValueError:: This block is used for error handling. It attempts to convert the user's input to an integer. n = int(user_input): If the conversion is successful, the integer is stored in the n variable. result = sum_of_first_n_natural_numbers(n): It then calls the sum_of_first_n_natural_numbers function with the user's number and stores the result in the result variable. print(f\"The sum of the first {n} natural numbers is: {result}\"): This line prints the calculated sum in a user-friendly format. except ValueError: print(\"Invalid input. Please enter a non-negative integer.\"): If the user's input cannot be converted to an integer (e.g., they entered text), a ValueError occurs, and this block catches it, printing an error message."
      ],
      "metadata": {
        "id": "2Ioq7rAVm6YX"
      }
    },
    {
      "cell_type": "markdown",
      "source": [
        "# Task 5\n",
        "\n",
        "Description:\n",
        "\n",
        "● Students need to write a Python program to calculate the sum of odd numbers and even numbers in a given tuple.\n",
        "\n",
        "● Refactor the code to improve logic and readability\n",
        "\n",
        "Prompt:write a python program to give the sum of odd and even numbers in an given tuple\n",
        "\n"
      ],
      "metadata": {
        "id": "VvrLkhdhm-qv"
      }
    },
    {
      "cell_type": "code",
      "metadata": {
        "colab": {
          "base_uri": "https://localhost:8080/"
        },
        "id": "d075b0c2",
        "outputId": "72c4c89f-0357-4774-945e-c48b8f9a0c63"
      },
      "source": [
        "def sum_odd_even(numbers):\n",
        "  \"\"\"\n",
        "  Calculates the sum of odd and even numbers in a tuple.\n",
        "\n",
        "  Args:\n",
        "    numbers: A tuple of numbers.\n",
        "\n",
        "  Returns:\n",
        "    A tuple containing the sum of odd numbers and the sum of even numbers.\n",
        "  \"\"\"\n",
        "  sum_odd = 0\n",
        "  sum_even = 0\n",
        "  for number in numbers:\n",
        "    if number % 2 == 0:\n",
        "      sum_even += number\n",
        "    else:\n",
        "      sum_odd += number\n",
        "  return sum_odd, sum_even\n",
        "\n",
        "# Example usage:\n",
        "my_tuple = (1, 2, 3, 4, 5, 6, 7, 8, 9, 10)\n",
        "odd_sum, even_sum = sum_odd_even(my_tuple)\n",
        "\n",
        "print(f\"Tuple: {my_tuple}\")\n",
        "print(f\"Sum of odd numbers: {odd_sum}\")\n",
        "print(f\"Sum of even numbers: {even_sum}\")\n",
        "\n",
        "empty_tuple = ()\n",
        "odd_sum_empty, even_sum_empty = sum_odd_even(empty_tuple)\n",
        "print(f\"\\nTuple: {empty_tuple}\")\n",
        "print(f\"Sum of odd numbers: {odd_sum_empty}\")\n",
        "print(f\"Sum of even numbers: {even_sum_empty}\")"
      ],
      "execution_count": null,
      "outputs": [
        {
          "output_type": "stream",
          "name": "stdout",
          "text": [
            "Tuple: (1, 2, 3, 4, 5, 6, 7, 8, 9, 10)\n",
            "Sum of odd numbers: 25\n",
            "Sum of even numbers: 30\n",
            "\n",
            "Tuple: ()\n",
            "Sum of odd numbers: 0\n",
            "Sum of even numbers: 0\n"
          ]
        }
      ]
    },
    {
      "cell_type": "markdown",
      "source": [
        "Explanation:\n",
        "\n",
        "This code defines a Python function called sum_odd_even that calculates the sum of odd and even numbers in a given tuple.\n",
        "\n",
        "Here's a breakdown:\n",
        "\n",
        "Function Definition: def sum_odd_even(numbers): defines the function that takes one argument, numbers, which is expected to be a tuple. The docstring explains what the function does, its arguments, and what it returns (a tuple containing the sum of odd and even numbers). Initialization: sum_even = 0 and sum_odd = 0: These lines initialize two variables to store the running sums of even and odd numbers, respectively. They are set to 0 initially. Iterating through the tuple: for number in numbers:: This loop iterates through each element (number) in the input numbers tuple. Checking for odd or even: if number % 2 == 0:: Inside the loop, this condition checks if the current number is even. The modulo operator (%) returns the remainder of a division. If a number divided by 2 has a remainder of 0, it's even. sum_even += number: If the number is even, it's added to the sum_even variable. else:: If the condition in the if statement is false (meaning the number is not even), the code in the else block is executed. sum_odd += number: If the number is odd, it's added to the sum_odd variable. Returning the results: return sum_odd, sum_even: After the loop finishes iterating through all the numbers in the tuple, the function returns a tuple containing the final sum_odd and sum_even. Example Usage: The code then demonstrates how to use the sum_odd_even function with a sample tuple my_tuple and an empty tuple empty_tuple. It calls the function, unpacks the returned tuple into odd_sum and even_sum variables, and prints the results in a user-friendly format using f-strings."
      ],
      "metadata": {
        "id": "zpNhjJ8NnSCl"
      }
    }
  ]
}